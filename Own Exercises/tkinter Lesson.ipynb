{
 "nbformat": 4,
 "nbformat_minor": 2,
 "metadata": {
  "language_info": {
   "name": "python",
   "codemirror_mode": {
    "name": "ipython",
    "version": 3
   },
   "version": "3.8.2-final"
  },
  "orig_nbformat": 2,
  "file_extension": ".py",
  "mimetype": "text/x-python",
  "name": "python",
  "npconvert_exporter": "python",
  "pygments_lexer": "ipython3",
  "version": 3,
  "kernelspec": {
   "name": "python38264bit6e00b37fc1534a72a99d6a0354a7daf7",
   "display_name": "Python 3.8.2 64-bit"
  }
 },
 "cells": [
  {
   "cell_type": "code",
   "execution_count": 9,
   "metadata": {},
   "outputs": [],
   "source": [
    "from tkinter import *\n",
    "\n",
    "root = Tk()\n",
    "\n",
    "myLabel1 = Label(root, text=\"Hello World!\")\n",
    "myLabel2 = Label(root, text=\"My name is Javier Teo\")\n",
    "\n",
    "myLabel1.grid(row = 0, column = 0)\n",
    "myLabel2.grid(row = 1, column = 5)\n",
    "\n",
    "root.mainloop()"
   ]
  },
  {
   "cell_type": "code",
   "execution_count": 27,
   "metadata": {},
   "outputs": [],
   "source": [
    "import tkinter\n",
    "\n",
    "root = Tk()\n",
    "\n",
    "\n",
    "def myClick():\n",
    "    myLabel = Label(root, text=\"Look! I clicked a button!~\")\n",
    "    myLabel.pack()\n",
    "\n",
    "\n",
    "myButton = Button(root, text = \"Click Me!\", command = myClick, bg = 'blue', fg = 'white')\n",
    "myButton.pack()\n",
    "\n",
    "\n",
    "root.mainloop()"
   ]
  },
  {
   "cell_type": "code",
   "execution_count": 37,
   "metadata": {},
   "outputs": [],
   "source": [
    "import tkinter\n",
    "\n",
    "root = Tk()\n",
    "\n",
    "e = Entry(root, width = 50)\n",
    "e.pack()\n",
    "e.insert(0, \"Enter Your Name: \")\n",
    "\n",
    "def myClick():\n",
    "    hello = \"Hello \" + e.get()\n",
    "    myLabel = Label(root, text= hello)\n",
    "    myLabel.pack()\n",
    "\n",
    "myButton = Button(root, text = \"Submit\", command = myClick)\n",
    "myButton.pack()\n",
    "\n",
    "root.mainloop()\n"
   ]
  },
  {
   "cell_type": "code",
   "execution_count": 47,
   "metadata": {},
   "outputs": [
    {
     "name": "stderr",
     "output_type": "stream",
     "text": "Exception in Tkinter callback\nTraceback (most recent call last):\n  File \"C:\\Python\\Python38\\lib\\tkinter\\__init__.py\", line 1883, in __call__\n    return self.func(*args)\n  File \"<ipython-input-47-c84048c984ef>\", line 8, in addition\n    number += e.get()\nUnboundLocalError: local variable 'number' referenced before assignment\nException in Tkinter callback\nTraceback (most recent call last):\n  File \"C:\\Python\\Python38\\lib\\tkinter\\__init__.py\", line 1883, in __call__\n    return self.func(*args)\n  File \"<ipython-input-47-c84048c984ef>\", line 8, in addition\n    number += e.get()\nUnboundLocalError: local variable 'number' referenced before assignment\n"
    }
   ],
   "source": [
    "import tkinter\n",
    "\n",
    "root = Tk()\n",
    "\n",
    "number = 0\n",
    "\n",
    "def addition():\n",
    "    number += e.get()\n",
    "    e.insert(0, str(number))\n",
    "\n",
    "\n",
    "e = Entry(root, width = 50)\n",
    "e.grid(row = 0, column = 0)\n",
    "e.insert(0, str(number))\n",
    "\n",
    "plusButton = Button(root, text = \"+\", command = addition)\n",
    "# minusButton = Button(root, text = \"-\", command = subtraction)\n",
    "# timesButton = Button(root, text = \"*\", command = multiplication)\n",
    "# divideButton = Button(root, text = \"/\", command = division)\n",
    "# equalButton = Button(root, text = \"=\", command = result)\n",
    "\n",
    "plusButton.grid(row = 1, column = 0)\n",
    "# minusButton.grid(row = 1, column = 1)\n",
    "# timesButton.grid(row = 2, column = 0)\n",
    "# divideButton.grid(row = 2, column = 1)\n",
    "# equalButton.grid(row = 2, column = 2)\n",
    "\n",
    "root.mainloop()"
   ]
  }
 ]
}