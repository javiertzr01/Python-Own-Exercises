{
 "nbformat": 4,
 "nbformat_minor": 2,
 "metadata": {
  "language_info": {
   "name": "python",
   "codemirror_mode": {
    "name": "ipython",
    "version": 3
   },
   "version": "3.8.2-final"
  },
  "orig_nbformat": 2,
  "file_extension": ".py",
  "mimetype": "text/x-python",
  "name": "python",
  "npconvert_exporter": "python",
  "pygments_lexer": "ipython3",
  "version": 3,
  "kernelspec": {
   "name": "python38264bit6e00b37fc1534a72a99d6a0354a7daf7",
   "display_name": "Python 3.8.2 64-bit"
  }
 },
 "cells": [
  {
   "cell_type": "code",
   "execution_count": 15,
   "metadata": {},
   "outputs": [
    {
     "output_type": "stream",
     "name": "stdout",
     "text": "{'letters': 'b', 'bool': False}\n"
    }
   ],
   "source": [
    "x = {}\n",
    "temp_dict = {\n",
    "    'letters' : 'a',\n",
    "    'bool' : 'False'\n",
    "}\n",
    "temp_dict2 = dict()\n",
    "temp_dict2['letters'] = 'b'\n",
    "temp_dict2['bool'] = False\n",
    "x = temp_dict\n",
    "x.update(temp_dict2)\n",
    "print(x)"
   ]
  }
 ]
}