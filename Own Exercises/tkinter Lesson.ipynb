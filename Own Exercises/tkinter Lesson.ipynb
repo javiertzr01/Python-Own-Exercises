{
 "nbformat": 4,
 "nbformat_minor": 2,
 "metadata": {
  "language_info": {
   "name": "python",
   "codemirror_mode": {
    "name": "ipython",
    "version": 3
   },
   "version": "3.8.2-final"
  },
  "orig_nbformat": 2,
  "file_extension": ".py",
  "mimetype": "text/x-python",
  "name": "python",
  "npconvert_exporter": "python",
  "pygments_lexer": "ipython3",
  "version": 3,
  "kernelspec": {
   "name": "python38264bit6e00b37fc1534a72a99d6a0354a7daf7",
   "display_name": "Python 3.8.2 64-bit"
  }
 },
 "cells": [
  {
   "cell_type": "code",
   "execution_count": 9,
   "metadata": {},
   "outputs": [],
   "source": [
    "from tkinter import *\n",
    "\n",
    "root = Tk()\n",
    "\n",
    "myLabel1 = Label(root, text=\"Hello World!\")\n",
    "myLabel2 = Label(root, text=\"My name is Javier Teo\")\n",
    "\n",
    "myLabel1.grid(row = 0, column = 0)\n",
    "myLabel2.grid(row = 1, column = 5)\n",
    "\n",
    "root.mainloop()"
   ]
  },
  {
   "cell_type": "code",
   "execution_count": 27,
   "metadata": {},
   "outputs": [],
   "source": [
    "import tkinter\n",
    "\n",
    "root = Tk()\n",
    "\n",
    "\n",
    "def myClick():\n",
    "    myLabel = Label(root, text=\"Look! I clicked a button!~\")\n",
    "    myLabel.pack()\n",
    "\n",
    "\n",
    "myButton = Button(root, text = \"Click Me!\", command = myClick, bg = 'blue', fg = 'white')\n",
    "myButton.pack()\n",
    "\n",
    "\n",
    "root.mainloop()"
   ]
  },
  {
   "cell_type": "code",
   "execution_count": 37,
   "metadata": {},
   "outputs": [],
   "source": [
    "import tkinter\n",
    "\n",
    "root = Tk()\n",
    "\n",
    "e = Entry(root, width = 50)\n",
    "e.pack()\n",
    "e.insert(0, \"Enter Your Name: \")\n",
    "\n",
    "def myClick():\n",
    "    hello = \"Hello \" + e.get()\n",
    "    myLabel = Label(root, text= hello)\n",
    "    myLabel.pack()\n",
    "\n",
    "myButton = Button(root, text = \"Submit\", command = myClick)\n",
    "myButton.pack()\n",
    "\n",
    "root.mainloop()\n"
   ]
  },
  {
   "cell_type": "code",
   "execution_count": 7,
   "metadata": {},
   "outputs": [
    {
     "ename": "SyntaxError",
     "evalue": "invalid syntax (<ipython-input-7-f1663e52d1ab>, line 29)",
     "output_type": "error",
     "traceback": [
      "\u001b[1;36m  File \u001b[1;32m\"<ipython-input-7-f1663e52d1ab>\"\u001b[1;36m, line \u001b[1;32m29\u001b[0m\n\u001b[1;33m    button_equal = = Button(root, text = \"=\", padx = 91, pady = 20, command = button_add)\u001b[0m\n\u001b[1;37m                   ^\u001b[0m\n\u001b[1;31mSyntaxError\u001b[0m\u001b[1;31m:\u001b[0m invalid syntax\n"
     ]
    }
   ],
   "source": [
    "from tkinter import *\n",
    "\n",
    "root = Tk()\n",
    "root.title(\"Simple Calculator\")\n",
    "\n",
    "number = 0\n",
    "\n",
    "def button_add():\n",
    "    return\n",
    "\n",
    "\n",
    "e = Entry(root, width = 35, borderwidth = 5)\n",
    "\n",
    "e.grid(row = 0, column = 0, columnspan = 3, padx = 10, pady = 10)\n",
    "\n",
    "# Defines Buttons\n",
    "\n",
    "button_1 = Button(root, text = \"1\", padx = 40, pady = 20, command = button_add)\n",
    "button_2 = Button(root, text = \"2\", padx = 40, pady = 20, command = button_add)\n",
    "button_3 = Button(root, text = \"3\", padx = 40, pady = 20, command = button_add)\n",
    "button_4 = Button(root, text = \"4\", padx = 40, pady = 20, command = button_add)\n",
    "button_5 = Button(root, text = \"5\", padx = 40, pady = 20, command = button_add)\n",
    "button_6 = Button(root, text = \"6\", padx = 40, pady = 20, command = button_add)\n",
    "button_7 = Button(root, text = \"7\", padx = 40, pady = 20, command = button_add)\n",
    "button_8 = Button(root, text = \"8\", padx = 40, pady = 20, command = button_add)\n",
    "button_9 = Button(root, text = \"9\", padx = 40, pady = 20, command = button_add)\n",
    "button_0 = Button(root, text = \"0\", padx = 40, pady = 20, command = button_add)\n",
    "button_add = Button(root, text = \"+\", padx = 39, pady = 20, command = button_add)\n",
    "button_equal = = Button(root, text = \"=\", padx = 91, pady = 20, command = button_add)\n",
    "button_clear = = Button(root, text = \"Clear\", padx = 79, pady = 20, command = button_add)\n",
    "\n",
    "# Put the buttons on the screen\n",
    "\n",
    "button_1.grid(row = 3, column = 0)\n",
    "button_2.grid(row = 3, column = 1)\n",
    "button_3.grid(row = 3, column = 2)\n",
    "\n",
    "button_4.grid(row = 2, column = 0)\n",
    "button_5.grid(row = 2, column = 1)\n",
    "button_6.grid(row = 2, column = 2)\n",
    "\n",
    "button_7.grid(row = 1, column = 0)\n",
    "button_8.grid(row = 1, column = 1)\n",
    "button_9.grid(row =1 , column = 2)\n",
    "\n",
    "button_0.grid(row = 4, column = 0)\n",
    "button_clear\n",
    "button_add\n",
    "# plusButton = Button(root, text = \"+\", command = addition)\n",
    "# minusButton = Button(root, text = \"-\", command = subtraction)\n",
    "# timesButton = Button(root, text = \"*\", command = multiplication)\n",
    "# divideButton = Button(root, text = \"/\", command = division)\n",
    "# equalButton = Button(root, text = \"=\", command = result)\n",
    "\n",
    "# plusButton.grid(row = 1, column = 0)\n",
    "# minusButton.grid(row = 1, column = 1)\n",
    "# timesButton.grid(row = 2, column = 0)\n",
    "# divideButton.grid(row = 2, column = 1)\n",
    "# equalButton.grid(row = 2, column = 2)\n",
    "\n",
    "root.mainloop()"
   ]
  },
  {
   "cell_type": "code",
   "execution_count": null,
   "metadata": {},
   "outputs": [],
   "source": []
  }
 ]
}